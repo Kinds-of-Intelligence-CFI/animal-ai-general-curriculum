{
 "cells": [
  {
   "cell_type": "code",
   "execution_count": null,
   "id": "f65a6d7d",
   "metadata": {},
   "outputs": [],
   "source": [
    "import sys\n",
    "import random\n",
    "import os\n",
    "\n",
    "from animalai.animalai.envs.environment import AnimalAIEnvironment\n",
    "from mlagents_envs.exception import UnityCommunicationException"
   ]
  },
  {
   "cell_type": "code",
   "execution_count": null,
   "id": "0866d341",
   "metadata": {},
   "outputs": [],
   "source": [
    "configuration_file = './*.yml'"
   ]
  },
  {
   "cell_type": "code",
   "execution_count": null,
   "id": "9ce21dda",
   "metadata": {
    "scrolled": true
   },
   "outputs": [],
   "source": [
    "with open(configuration_file) as f:\n",
    "    print(f.read()) "
   ]
  },
  {
   "cell_type": "code",
   "execution_count": null,
   "id": "f400991f",
   "metadata": {},
   "outputs": [],
   "source": [
    "env_path = \"./env/AnimalAI\" #make sure parent directory is github repo folder\n",
    "port = 5005 + random.randint(\n",
    "    0, 1000\n",
    ")  # use a random port to avoid problems if a previous version exits slowly\n",
    "\n",
    "print(\"initializing AAI environment\")\n",
    "try:\n",
    "    environment = AnimalAIEnvironment(\n",
    "        file_name=env_path,\n",
    "        base_port=port,\n",
    "        arenas_configurations=configuration_file,\n",
    "        play=True,\n",
    "    )\n",
    "except UnityCommunicationException:\n",
    "    # you'll end up here if you close the environment window directly\n",
    "    # always try to close it from script\n",
    "    environment.close()\n"
   ]
  },
  {
   "cell_type": "code",
   "execution_count": null,
   "id": "9a79decd",
   "metadata": {},
   "outputs": [],
   "source": [
    "if environment:\n",
    "    environment.close() # takes a few seconds"
   ]
  }
 ],
 "metadata": {
  "kernelspec": {
   "display_name": "Python (Animal-AI-v3)",
   "language": "python",
   "name": "animal-ai-v3"
  },
  "language_info": {
   "codemirror_mode": {
    "name": "ipython",
    "version": 3
   },
   "file_extension": ".py",
   "mimetype": "text/x-python",
   "name": "python",
   "nbconvert_exporter": "python",
   "pygments_lexer": "ipython3",
   "version": "3.8.12"
  }
 },
 "nbformat": 4,
 "nbformat_minor": 5
}
